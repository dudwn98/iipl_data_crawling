{
  "nbformat": 4,
  "nbformat_minor": 0,
  "metadata": {
    "colab": {
      "name": "네이버 뉴스 크롤링.ipynb",
      "private_outputs": true,
      "provenance": [],
      "authorship_tag": "ABX9TyPY+IgwoJPEv6FwX4iNcQTO",
      "include_colab_link": true
    },
    "kernelspec": {
      "name": "python3",
      "display_name": "Python 3"
    }
  },
  "cells": [
    {
      "cell_type": "markdown",
      "metadata": {
        "id": "view-in-github",
        "colab_type": "text"
      },
      "source": [
        "<a href=\"https://colab.research.google.com/github/dudwn98/iipl_data_crawling/blob/main/%EB%84%A4%EC%9D%B4%EB%B2%84_%EB%89%B4%EC%8A%A4_%ED%81%AC%EB%A1%A4%EB%A7%81.ipynb\" target=\"_parent\"><img src=\"https://colab.research.google.com/assets/colab-badge.svg\" alt=\"Open In Colab\"/></a>"
      ]
    },
    {
      "cell_type": "code",
      "metadata": {
        "id": "SPKOJwt4_-Yl"
      },
      "source": [
        "import os\r\n",
        "import time\r\n",
        "import json\r\n",
        "import argparse\r\n",
        "import requests\r\n",
        "from tqdm import tqdm\r\n",
        "from bs4 import BeautifulSoup\r\n",
        "from urllib.parse import quote_plus"
      ],
      "execution_count": null,
      "outputs": []
    },
    {
      "cell_type": "code",
      "metadata": {
        "id": "1n8zkiVCAXPw"
      },
      "source": [
        "# '소울' 검색 후 뉴스 페이지\r\n",
        "main_url = \"https://search.naver.com/search.naver?where=news&sm=tab_jum&query=%EC%86%8C%EC%9A%B8\"\r\n",
        "main_page = BeautifulSoup(requests.get(main_url).text, 'lxml')\r\n",
        "\r\n",
        "article_areas = main_page.find(\"div\", {\"class\":\"group_news\"}).findAll(\"li\")\r\n",
        "\r\n",
        "title = article_areas[0].find(\"a\", {\"class\": \"news_tit\"}).get_text()\r\n",
        "press = article_areas[0].find(\"div\", {\"class\": \"news_info\"}).find(\"a\").get_text()\r\n",
        "desc = article_areas[0].find(\"div\", {\"class\": \"dsc_wrap\"}).get_text()\r\n",
        "print(title, press, desc)"
      ],
      "execution_count": null,
      "outputs": []
    },
    {
      "cell_type": "code",
      "metadata": {
        "id": "VeX3XXNZLnri"
      },
      "source": [
        "#Main Page\r\n",
        "main_url = \"https://search.naver.com/search.naver?where=news&sm=tab_jum&query=%EC%86%8C%EC%9A%B8\"\r\n",
        "main_page = BeautifulSoup(requests.get(main_url).text, 'lxml')\r\n",
        "\r\n",
        "articles = main_page.find(\"div\", {\"class\":\"group_news\"}).findAll(\"li\", {\"class\": \"bx\"})\r\n",
        "for article in articles:\r\n",
        "    title = article.find(\"a\", {\"class\": \"news_tit\"}).get_text()\r\n",
        "    press = article.find(\"a\", {\"class\":\"info press\"}).get_text()\r\n",
        "    print(title + \" | \" + press)\r\n",
        "\r\n",
        "    article_url = article.find(\"a\")[\"href\"]\r\n",
        "    print(article_url)"
      ],
      "execution_count": null,
      "outputs": []
    },
    {
      "cell_type": "code",
      "metadata": {
        "id": "MqPJj3HDV7Y-"
      },
      "source": [
        "# 1~10 페이지\r\n",
        "for n in range(1, 100, 10):\r\n",
        "    main_url = \"https://search.naver.com/search.naver?where=news&sm=tab_jum&query=%EC%86%8C%EC%9A%B8&start=\"+str(n)\r\n",
        "    main_page = BeautifulSoup(requests.get(main_url).text, 'lxml')\r\n",
        "    articles = main_page.find(\"div\", {\"class\":\"group_news\"}).findAll(\"li\", {\"class\": \"bx\"})\r\n",
        "\r\n",
        "    for article in articles:\r\n",
        "        title = article.find(\"a\", {\"class\": \"news_tit\"}).get_text()\r\n",
        "        press = article.find(\"a\", {\"class\":\"info press\"}).get_text()\r\n",
        "        article_url = article.find(\"a\")[\"href\"]\r\n",
        "\r\n",
        "        title = title.replace(\",\", \"\")\r\n",
        "        press = press.replace(\"언론사 선정\", \"\")\r\n",
        "        print(title + \" | \" + press)        \r\n",
        "        print(article_url)"
      ],
      "execution_count": null,
      "outputs": []
    },
    {
      "cell_type": "code",
      "metadata": {
        "id": "yRnyyuIWuRD5"
      },
      "source": [
        ""
      ],
      "execution_count": null,
      "outputs": []
    }
  ]
}